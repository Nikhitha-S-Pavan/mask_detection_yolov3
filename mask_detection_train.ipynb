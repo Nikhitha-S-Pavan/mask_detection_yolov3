{
  "nbformat": 4,
  "nbformat_minor": 0,
  "metadata": {
    "colab": {
      "name": "mask_detection_train",
      "private_outputs": true,
      "provenance": [],
      "authorship_tag": "ABX9TyNvZzN6yqeu7p1fAvDAtcZF",
      "include_colab_link": true
    },
    "kernelspec": {
      "name": "python3",
      "display_name": "Python 3"
    },
    "language_info": {
      "name": "python"
    },
    "accelerator": "GPU"
  },
  "cells": [
    {
      "cell_type": "markdown",
      "metadata": {
        "id": "view-in-github",
        "colab_type": "text"
      },
      "source": [
        "<a href=\"https://colab.research.google.com/github/Nikhitha-S-Pavan/mask_detection_yolov3/blob/main/mask_detection_train.ipynb\" target=\"_parent\"><img src=\"https://colab.research.google.com/assets/colab-badge.svg\" alt=\"Open In Colab\"/></a>"
      ]
    },
    {
      "cell_type": "code",
      "metadata": {
        "id": "1tO5qi-3z3nS"
      },
      "source": [
        "!git clone https://github.com/AlexeyAB/darknet.git"
      ],
      "execution_count": null,
      "outputs": []
    },
    {
      "cell_type": "code",
      "metadata": {
        "id": "40iK_Y_lbX_g"
      },
      "source": [
        "from google.colab import drive\n",
        "drive.mount('/content/drive')"
      ],
      "execution_count": null,
      "outputs": []
    },
    {
      "cell_type": "code",
      "metadata": {
        "id": "bYetQ8m70SpT"
      },
      "source": [
        "cd drive/MyDrive/kaggle_dataset/"
      ],
      "execution_count": null,
      "outputs": []
    },
    {
      "cell_type": "code",
      "metadata": {
        "id": "ITnbqgwy1Y7X"
      },
      "source": [
        "!unzip archiveyolo.zip"
      ],
      "execution_count": null,
      "outputs": []
    },
    {
      "cell_type": "code",
      "metadata": {
        "id": "3IhAXJkT0SsA"
      },
      "source": [
        "cd darknet\n"
      ],
      "execution_count": null,
      "outputs": []
    },
    {
      "cell_type": "code",
      "metadata": {
        "id": "Ti9YpUqz0SuN"
      },
      "source": [
        "#Configure yolo to use colab resources\n",
        "\n",
        "!sed -i 's/OPENCV=0/OPENCV=1/' Makefile\n",
        "!sed -i 's/GPU=0/GPU=1/' Makefile\n",
        "!sed -i 's/CUDNN=0/CUDNN=1/' Makefile\n",
        "!sed -i 's/CUDNN_HALF=0/CUDNN_HALF=1/' Makefile\n",
        "!cat Makefile\n",
        "!make"
      ],
      "execution_count": null,
      "outputs": []
    },
    {
      "cell_type": "code",
      "metadata": {
        "id": "Gh78L8nQ0Sww"
      },
      "source": [
        "! ./darknet"
      ],
      "execution_count": null,
      "outputs": []
    },
    {
      "cell_type": "code",
      "metadata": {
        "id": "4t32ADAWcTZQ"
      },
      "source": [
        "!mv /content/drive/MyDrive/kaggle_dataset/yolo /content/darknet/"
      ],
      "execution_count": null,
      "outputs": []
    },
    {
      "cell_type": "code",
      "metadata": {
        "id": "YwM0ZcvS1sj0"
      },
      "source": [
        "cd yolo"
      ],
      "execution_count": null,
      "outputs": []
    },
    {
      "cell_type": "code",
      "metadata": {
        "id": "togBii_514qk"
      },
      "source": [
        "!mv labels/test/*.txt images/test/"
      ],
      "execution_count": null,
      "outputs": []
    },
    {
      "cell_type": "code",
      "metadata": {
        "id": "0Z8FQClm4tFd"
      },
      "source": [
        "!mv labels/train/*.txt images/train/"
      ],
      "execution_count": null,
      "outputs": []
    },
    {
      "cell_type": "code",
      "metadata": {
        "id": "Gj40BSwU4tI6"
      },
      "source": [
        "!mv labels/valid/*.txt images/valid/"
      ],
      "execution_count": null,
      "outputs": []
    },
    {
      "cell_type": "code",
      "metadata": {
        "id": "07WidRfh4tNY"
      },
      "source": [
        "!sed -i 's/\\/kaggle\\/input\\/maskdetection\\/yolo/data/g' test.txt"
      ],
      "execution_count": null,
      "outputs": []
    },
    {
      "cell_type": "code",
      "metadata": {
        "id": "RPJcsoUM4tQA"
      },
      "source": [
        "!sed -i 's/\\/kaggle\\/input\\/maskdetection\\/yolo/data/g' train.txt"
      ],
      "execution_count": null,
      "outputs": []
    },
    {
      "cell_type": "code",
      "metadata": {
        "id": "OIAGeWQR4tTK"
      },
      "source": [
        "!sed -i 's/\\/kaggle\\/input\\/maskdetection\\/yolo/data/g' valid.txt"
      ],
      "execution_count": null,
      "outputs": []
    },
    {
      "cell_type": "code",
      "metadata": {
        "id": "5eEuwOn_4tVc"
      },
      "source": [
        "!sed -i 's/\\/kaggle\\/input\\/maskdetection\\/yolo/data/g' valid.txt"
      ],
      "execution_count": null,
      "outputs": []
    },
    {
      "cell_type": "code",
      "metadata": {
        "id": "sCB7dUQi5LAf"
      },
      "source": [
        "!sed -i 's/\\/kaggle\\/input\\/maskdetection\\/yolo\\///g' obj.data"
      ],
      "execution_count": null,
      "outputs": []
    },
    {
      "cell_type": "code",
      "metadata": {
        "id": "Wu-9O8Rp5LDS"
      },
      "source": [
        "cd ..\n"
      ],
      "execution_count": null,
      "outputs": []
    },
    {
      "cell_type": "code",
      "metadata": {
        "id": "5ldaL1gD5LFZ"
      },
      "source": [
        "!mv  yolo/images/ data/"
      ],
      "execution_count": null,
      "outputs": []
    },
    {
      "cell_type": "code",
      "metadata": {
        "id": "V6l2T_YS5LHY"
      },
      "source": [
        "!mv yolo/train.txt /content/darknet/"
      ],
      "execution_count": null,
      "outputs": []
    },
    {
      "cell_type": "code",
      "metadata": {
        "id": "Vvt4JaW35LLI"
      },
      "source": [
        "!mv yolo/test.txt /content/darknet/"
      ],
      "execution_count": null,
      "outputs": []
    },
    {
      "cell_type": "code",
      "metadata": {
        "id": "15HowXDF5LNa"
      },
      "source": [
        "!mv yolo/valid.txt /content/darknet/"
      ],
      "execution_count": null,
      "outputs": []
    },
    {
      "cell_type": "code",
      "metadata": {
        "id": "paPYdIrg5LPs"
      },
      "source": [
        "!mv yolo/obj.data /content/darknet/"
      ],
      "execution_count": null,
      "outputs": []
    },
    {
      "cell_type": "code",
      "metadata": {
        "id": "QkHZkZLY5LR4"
      },
      "source": [
        "!mv yolo/obj.names /content/darknet/"
      ],
      "execution_count": null,
      "outputs": []
    },
    {
      "cell_type": "code",
      "metadata": {
        "id": "eFYnTR4I5LT2"
      },
      "source": [
        "pwd"
      ],
      "execution_count": null,
      "outputs": []
    },
    {
      "cell_type": "code",
      "metadata": {
        "id": "Ls4p4ttg5LWG"
      },
      "source": [
        "\n",
        "!sed -i 's/classes=20/classes=2/g' cfg/yolo-voc.2.0.cfg ## change classes=2 with your length of class\n",
        "!sed -i 's/filters=125/filters=35/g' cfg/yolo-voc.2.0.cfg ## change filters=35 with (classes + 5) * num for me (2 + 5) * 5 = 35 \n",
        "!cat cfg/yolo-voc.2.0.cfg"
      ],
      "execution_count": null,
      "outputs": []
    },
    {
      "cell_type": "code",
      "metadata": {
        "id": "VD6IQhfA4jG7"
      },
      "source": [
        "##### train #######\n",
        "!wget https://pjreddie.com/media/files/darknet19_448.conv.23"
      ],
      "execution_count": null,
      "outputs": []
    },
    {
      "cell_type": "code",
      "metadata": {
        "id": "x7kNpxmadPaV"
      },
      "source": [
        "!./darknet detector train obj.data cfg/yolov4.cfg darknet19_448.conv.23 -dont_show 0"
      ],
      "execution_count": null,
      "outputs": []
    },
    {
      "cell_type": "code",
      "metadata": {
        "id": "A88edN9LdPcu"
      },
      "source": [
        "!pip install opencv-contrib-python==3.4.13.47 --force-reinstall"
      ],
      "execution_count": null,
      "outputs": []
    },
    {
      "cell_type": "code",
      "metadata": {
        "id": "wqUCH9k7vYR-"
      },
      "source": [
        "import numpy as np\n",
        "import argparse\n",
        "import imutils\n",
        "import time\n",
        "import cv2\n",
        "import glob\n",
        "import os\n",
        "from google.colab.patches import cv2_imshow\n",
        "\n",
        "\n",
        "labelsPath = \"/content/darknet/obj.names\"\n",
        "LABELS = open(labelsPath).read().strip().split(\"\\n\")\n",
        "\n",
        "\n",
        "np.random.seed(42)\n",
        "COLORS = np.random.randint(0, 255, size=(len(LABELS), 3),\n",
        "\tdtype=\"uint8\")\n",
        "\n",
        "\n",
        "weightsPath = \"/content/darknet/backup/yolov4_final.weights\"\n",
        "configPath = \"/content/darknet/cfg/yolov4.cfg\"\n",
        "\n",
        "print(\"[INFO] loading YOLO from disk...\")\n",
        "net = cv2.dnn.readNetFromDarknet(configPath, weightsPath)\n",
        "ln = net.getLayerNames()\n",
        "ln = [ln[i[0] - 1] for i in net.getUnconnectedOutLayers()]\n",
        "\n",
        "\n",
        "for i in glob.glob(\"data/images/test/*.jpg\")[:5]:\n",
        "  print(i)\n",
        "  frame = cv2.imread(i)\n",
        "  (H, W) = frame.shape[:2]\n",
        "\n",
        "  # construct a blob from the input frame and then perform a forward\n",
        "  # pass of the YOLO object detector, giving us our bounding boxes\n",
        "  # and associated probabilities\n",
        "  blob = cv2.dnn.blobFromImage(frame, 1 / 255.0, (416, 416),\n",
        "    swapRB=True, crop=False)\n",
        "  net.setInput(blob)\n",
        "  start = time.time()\n",
        "  layerOutputs = net.forward(ln)\n",
        "  end = time.time()\n",
        "\n",
        "  # initialize our lists of detected bounding boxes, confidences,\n",
        "  # and class IDs, respectively\n",
        "  boxes = []\n",
        "  confidences = []\n",
        "  classIDs = []\n",
        "\n",
        "  # loop over each of the layer outputs\n",
        "  for output in layerOutputs:\n",
        "    # loop over each of the detections\n",
        "    for detection in output:\n",
        "      # extract the class ID and confidence (i.e., probability)\n",
        "      # of the current object detection\n",
        "      scores = detection[5:]\n",
        "      classID = np.argmax(scores)\n",
        "      confidence = scores[classID]\n",
        "\n",
        "      # filter out weak predictions by ensuring the detected\n",
        "      # probability is greater than the minimum probability\n",
        "      if confidence > 0.5:\n",
        "        # scale the bounding box coordinates back relative to\n",
        "        # the size of the image, keeping in mind that YOLO\n",
        "        # actually returns the center (x, y)-coordinates of\n",
        "        # the bounding box followed by the boxes' width and\n",
        "        # height\n",
        "        box = detection[0:4] * np.array([W, H, W, H])\n",
        "        (centerX, centerY, width, height) = box.astype(\"int\")\n",
        "\n",
        "        # use the center (x, y)-coordinates to derive the top\n",
        "        # and and left corner of the bounding box\n",
        "        x = int(centerX - (width / 2))\n",
        "        y = int(centerY - (height / 2))\n",
        "\n",
        "        # update our list of bounding box coordinates,\n",
        "        # confidences, and class IDs\n",
        "        boxes.append([x, y, int(width), int(height)])\n",
        "        confidences.append(float(confidence))\n",
        "        classIDs.append(classID)\n",
        "\n",
        "  # apply non-maxima suppression to suppress weak, overlapping\n",
        "  # bounding boxes\n",
        "  idxs = cv2.dnn.NMSBoxes(boxes, confidences, 0.5,\n",
        "    0.5)\n",
        "\n",
        "  # ensure at least one detection exists\n",
        "  if len(idxs) > 0:\n",
        "    # loop over the indexes we are keeping\n",
        "    for i in idxs.flatten():\n",
        "      # extract the bounding box coordinates\n",
        "      (x, y) = (boxes[i][0], boxes[i][1])\n",
        "      (w, h) = (boxes[i][2], boxes[i][3])\n",
        "\n",
        "      # draw a bounding box rectangle and label on the frame\n",
        "      color = [int(c) for c in COLORS[classIDs[i]]]\n",
        "      cv2.rectangle(frame, (x, y), (x + w, y + h), color, 2)\n",
        "      text = \"{}: {:.4f}\".format(LABELS[classIDs[i]],\n",
        "        confidences[i])\n",
        "      cv2.putText(frame, text, (x, y - 5),\n",
        "        cv2.FONT_HERSHEY_SIMPLEX, 0.5, color, 2)\n",
        "  cv2_imshow(frame)\n",
        "  \n",
        "    "
      ],
      "execution_count": null,
      "outputs": []
    },
    {
      "cell_type": "markdown",
      "metadata": {
        "id": "dudDLIHo4ief"
      },
      "source": [
        ""
      ]
    }
  ]
}