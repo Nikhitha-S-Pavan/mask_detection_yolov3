{
  "nbformat": 4,
  "nbformat_minor": 0,
  "metadata": {
    "colab": {
      "name": "mask_detection_train",
      "private_outputs": true,
      "provenance": [],
      "authorship_tag": "ABX9TyNIVfPXUz2MOHXGccML5fHA",
      "include_colab_link": true
    },
    "kernelspec": {
      "name": "python3",
      "display_name": "Python 3"
    },
    "language_info": {
      "name": "python"
    },
    "accelerator": "GPU"
  },
  "cells": [
    {
      "cell_type": "markdown",
      "metadata": {
        "id": "view-in-github",
        "colab_type": "text"
      },
      "source": [
        "<a href=\"https://colab.research.google.com/github/Nikhitha-S-Pavan/mask_detection_yolov3/blob/main/mask_detection_train.ipynb\" target=\"_parent\"><img src=\"https://colab.research.google.com/assets/colab-badge.svg\" alt=\"Open In Colab\"/></a>"
      ]
    },
    {
      "cell_type": "code",
      "metadata": {
        "id": "1tO5qi-3z3nS"
      },
      "source": [
        "!git clone https://github.com/AlexeyAB/darknet.git"
      ],
      "execution_count": null,
      "outputs": []
    },
    {
      "cell_type": "code",
      "metadata": {
        "id": "40iK_Y_lbX_g"
      },
      "source": [
        "from google.colab import drive\n",
        "drive.mount('/content/drive')"
      ],
      "execution_count": null,
      "outputs": []
    },
    {
      "cell_type": "code",
      "metadata": {
        "id": "bYetQ8m70SpT"
      },
      "source": [
        "cd drive/MyDrive/kaggle_dataset/"
      ],
      "execution_count": null,
      "outputs": []
    },
    {
      "cell_type": "code",
      "metadata": {
        "id": "ITnbqgwy1Y7X"
      },
      "source": [
        "!unzip archiveyolo.zip"
      ],
      "execution_count": null,
      "outputs": []
    },
    {
      "cell_type": "code",
      "metadata": {
        "id": "3IhAXJkT0SsA"
      },
      "source": [
        "cd darknet\n"
      ],
      "execution_count": null,
      "outputs": []
    },
    {
      "cell_type": "code",
      "metadata": {
        "id": "Ti9YpUqz0SuN"
      },
      "source": [
        "#Configure yolo to use colab resources\n",
        "\n",
        "!sed -i 's/OPENCV=0/OPENCV=1/' Makefile\n",
        "!sed -i 's/GPU=0/GPU=1/' Makefile\n",
        "!sed -i 's/CUDNN=0/CUDNN=1/' Makefile\n",
        "!sed -i 's/CUDNN_HALF=0/CUDNN_HALF=1/' Makefile\n",
        "!cat Makefile\n",
        "!make"
      ],
      "execution_count": null,
      "outputs": []
    },
    {
      "cell_type": "code",
      "metadata": {
        "id": "Gh78L8nQ0Sww"
      },
      "source": [
        "! ./darknet"
      ],
      "execution_count": null,
      "outputs": []
    },
    {
      "cell_type": "code",
      "metadata": {
        "id": "4t32ADAWcTZQ"
      },
      "source": [
        "!mv /content/drive/MyDrive/kaggle_dataset/yolo /content/darknet/"
      ],
      "execution_count": null,
      "outputs": []
    },
    {
      "cell_type": "code",
      "metadata": {
        "id": "YwM0ZcvS1sj0"
      },
      "source": [
        "cd yolo"
      ],
      "execution_count": null,
      "outputs": []
    },
    {
      "cell_type": "code",
      "metadata": {
        "id": "togBii_514qk"
      },
      "source": [
        "!mv labels/test/*.txt images/test/"
      ],
      "execution_count": null,
      "outputs": []
    },
    {
      "cell_type": "code",
      "metadata": {
        "id": "0Z8FQClm4tFd"
      },
      "source": [
        "!mv labels/train/*.txt images/train/"
      ],
      "execution_count": null,
      "outputs": []
    },
    {
      "cell_type": "code",
      "metadata": {
        "id": "Gj40BSwU4tI6"
      },
      "source": [
        "!mv labels/valid/*.txt images/valid/"
      ],
      "execution_count": null,
      "outputs": []
    },
    {
      "cell_type": "code",
      "metadata": {
        "id": "07WidRfh4tNY"
      },
      "source": [
        "!sed -i 's/\\/kaggle\\/input\\/maskdetection\\/yolo/data/g' test.txt"
      ],
      "execution_count": null,
      "outputs": []
    },
    {
      "cell_type": "code",
      "metadata": {
        "id": "RPJcsoUM4tQA"
      },
      "source": [
        "!sed -i 's/\\/kaggle\\/input\\/maskdetection\\/yolo/data/g' train.txt"
      ],
      "execution_count": null,
      "outputs": []
    },
    {
      "cell_type": "code",
      "metadata": {
        "id": "OIAGeWQR4tTK"
      },
      "source": [
        "!sed -i 's/\\/kaggle\\/input\\/maskdetection\\/yolo/data/g' valid.txt"
      ],
      "execution_count": null,
      "outputs": []
    },
    {
      "cell_type": "code",
      "metadata": {
        "id": "5eEuwOn_4tVc"
      },
      "source": [
        "!sed -i 's/\\/kaggle\\/input\\/maskdetection\\/yolo/data/g' valid.txt"
      ],
      "execution_count": null,
      "outputs": []
    },
    {
      "cell_type": "code",
      "metadata": {
        "id": "sCB7dUQi5LAf"
      },
      "source": [
        "!sed -i 's/\\/kaggle\\/input\\/maskdetection\\/yolo\\///g' obj.data"
      ],
      "execution_count": null,
      "outputs": []
    },
    {
      "cell_type": "code",
      "metadata": {
        "id": "Wu-9O8Rp5LDS"
      },
      "source": [
        "cd ..\n"
      ],
      "execution_count": null,
      "outputs": []
    },
    {
      "cell_type": "code",
      "metadata": {
        "id": "5ldaL1gD5LFZ"
      },
      "source": [
        "!mv  yolo/images/ data/"
      ],
      "execution_count": null,
      "outputs": []
    },
    {
      "cell_type": "code",
      "metadata": {
        "id": "V6l2T_YS5LHY"
      },
      "source": [
        "!mv yolo/train.txt /content/darknet/"
      ],
      "execution_count": null,
      "outputs": []
    },
    {
      "cell_type": "code",
      "metadata": {
        "id": "Vvt4JaW35LLI"
      },
      "source": [
        "!mv yolo/test.txt /content/darknet/"
      ],
      "execution_count": null,
      "outputs": []
    },
    {
      "cell_type": "code",
      "metadata": {
        "id": "15HowXDF5LNa"
      },
      "source": [
        "!mv yolo/valid.txt /content/darknet/"
      ],
      "execution_count": null,
      "outputs": []
    },
    {
      "cell_type": "code",
      "metadata": {
        "id": "paPYdIrg5LPs"
      },
      "source": [
        "!mv yolo/obj.data /content/darknet/"
      ],
      "execution_count": null,
      "outputs": []
    },
    {
      "cell_type": "code",
      "metadata": {
        "id": "QkHZkZLY5LR4"
      },
      "source": [
        "!mv yolo/obj.names /content/darknet/"
      ],
      "execution_count": null,
      "outputs": []
    },
    {
      "cell_type": "code",
      "metadata": {
        "id": "eFYnTR4I5LT2"
      },
      "source": [
        "pwd"
      ],
      "execution_count": null,
      "outputs": []
    },
    {
      "cell_type": "code",
      "metadata": {
        "id": "Ls4p4ttg5LWG"
      },
      "source": [
        "\n",
        "!sed -i 's/classes=20/classes=2/g' cfg/yolo-voc.2.0.cfg ## change classes=2 with your length of class\n",
        "!sed -i 's/filters=125/filters=35/g' cfg/yolo-voc.2.0.cfg ## change filters=35 with (classes + 5) * num for me (2 + 5) * 5 = 35 \n",
        "!cat cfg/yolo-voc.2.0.cfg"
      ],
      "execution_count": null,
      "outputs": []
    },
    {
      "cell_type": "code",
      "metadata": {
        "id": "VD6IQhfA4jG7"
      },
      "source": [
        "##### train #######\n",
        "!wget https://pjreddie.com/media/files/darknet19_448.conv.23"
      ],
      "execution_count": null,
      "outputs": []
    },
    {
      "cell_type": "code",
      "metadata": {
        "id": "x7kNpxmadPaV"
      },
      "source": [
        "!./darknet detector train obj.data cfg/yolo-voc.2.0.cfg darknet19_448.conv.23 -dont_show 0"
      ],
      "execution_count": null,
      "outputs": []
    },
    {
      "cell_type": "code",
      "metadata": {
        "id": "A88edN9LdPcu"
      },
      "source": [
        ""
      ],
      "execution_count": null,
      "outputs": []
    },
    {
      "cell_type": "markdown",
      "metadata": {
        "id": "dudDLIHo4ief"
      },
      "source": [
        ""
      ]
    }
  ]
}